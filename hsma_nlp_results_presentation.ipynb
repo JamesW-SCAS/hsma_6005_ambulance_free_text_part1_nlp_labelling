{
 "cells": [
  {
   "cell_type": "markdown",
   "metadata": {},
   "source": [
    "# NB need to re-run training_data.csv using the custom sentencizer\n",
    "# Also need to fold in the neural net negation predictions"
   ]
  },
  {
   "cell_type": "code",
   "execution_count": 1,
   "metadata": {},
   "outputs": [],
   "source": [
    "import pandas as pd\n",
    "import plotly.express as px "
   ]
  },
  {
   "cell_type": "code",
   "execution_count": 2,
   "metadata": {},
   "outputs": [
    {
     "data": {
      "text/html": [
       "<div>\n",
       "<style scoped>\n",
       "    .dataframe tbody tr th:only-of-type {\n",
       "        vertical-align: middle;\n",
       "    }\n",
       "\n",
       "    .dataframe tbody tr th {\n",
       "        vertical-align: top;\n",
       "    }\n",
       "\n",
       "    .dataframe thead th {\n",
       "        text-align: right;\n",
       "    }\n",
       "</style>\n",
       "<table border=\"1\" class=\"dataframe\">\n",
       "  <thead>\n",
       "    <tr style=\"text-align: right;\">\n",
       "      <th></th>\n",
       "      <th>CareEpisodeID</th>\n",
       "      <th>injuryIllnessDetails</th>\n",
       "      <th>impressionPlan</th>\n",
       "      <th>12_lead_label_found</th>\n",
       "      <th>12_lead_label_negated</th>\n",
       "      <th>oxygen_label_found</th>\n",
       "      <th>oxygen_label_negated</th>\n",
       "      <th>12_lead_label_sentence</th>\n",
       "      <th>oxygen_label_sentence</th>\n",
       "    </tr>\n",
       "  </thead>\n",
       "  <tbody>\n",
       "    <tr>\n",
       "      <th>0</th>\n",
       "      <td>21928955</td>\n",
       "      <td>IHT SMH ED - WYCOMBE CSRU  Cardiac monitoring ...</td>\n",
       "      <td>NaN</td>\n",
       "      <td>1</td>\n",
       "      <td>0</td>\n",
       "      <td>0</td>\n",
       "      <td>0</td>\n",
       "      <td>12 lead - RBBB,</td>\n",
       "      <td>NaN</td>\n",
       "    </tr>\n",
       "  </tbody>\n",
       "</table>\n",
       "</div>"
      ],
      "text/plain": [
       "   CareEpisodeID                               injuryIllnessDetails  \\\n",
       "0       21928955  IHT SMH ED - WYCOMBE CSRU  Cardiac monitoring ...   \n",
       "\n",
       "  impressionPlan  12_lead_label_found  12_lead_label_negated  \\\n",
       "0            NaN                    1                      0   \n",
       "\n",
       "   oxygen_label_found  oxygen_label_negated 12_lead_label_sentence  \\\n",
       "0                   0                     0        12 lead - RBBB,   \n",
       "\n",
       "  oxygen_label_sentence  \n",
       "0                   NaN  "
      ]
     },
     "execution_count": 2,
     "metadata": {},
     "output_type": "execute_result"
    }
   ],
   "source": [
    "df = pd.read_csv('training_data.csv'\n",
    "# , nrows=100\n",
    ")\n",
    "df.head(1)"
   ]
  },
  {
   "cell_type": "code",
   "execution_count": 3,
   "metadata": {},
   "outputs": [],
   "source": [
    "# Create a separate list of Oxygen columns from Phil's dataset\n",
    "oxy_cols = [\n",
    "    'Oxygen Administered Under Intervention',\n",
    "#    'Oxygen ContraIndication Under Medicines',\n",
    "   'Oxygen Administered Under Medicines'\n",
    "]"
   ]
  },
  {
   "cell_type": "code",
   "execution_count": 4,
   "metadata": {},
   "outputs": [],
   "source": [
    "filtered_cols = [\n",
    "   'CareEpisodeID',\n",
    "   '12 lead ECG taken'\n",
    "   ]\n",
    "filtered_cols.extend(oxy_cols) # This adds all elements from oxy_cols to the end of filtered_cols\n",
    "# filtered_cols"
   ]
  },
  {
   "cell_type": "code",
   "execution_count": 5,
   "metadata": {},
   "outputs": [],
   "source": [
    "og = pd.read_csv(\"Oxygen and 12 Lead Free Text Training Model v0.1 - 20250227.csv\" #\"nlp_input.csv\"\n",
    ", usecols = filtered_cols\n",
    "# , nrows = 100\n",
    ", encoding_errors='ignore'\n",
    ")"
   ]
  },
  {
   "cell_type": "code",
   "execution_count": 6,
   "metadata": {},
   "outputs": [
    {
     "data": {
      "text/html": [
       "<div>\n",
       "<style scoped>\n",
       "    .dataframe tbody tr th:only-of-type {\n",
       "        vertical-align: middle;\n",
       "    }\n",
       "\n",
       "    .dataframe tbody tr th {\n",
       "        vertical-align: top;\n",
       "    }\n",
       "\n",
       "    .dataframe thead th {\n",
       "        text-align: right;\n",
       "    }\n",
       "</style>\n",
       "<table border=\"1\" class=\"dataframe\">\n",
       "  <thead>\n",
       "    <tr style=\"text-align: right;\">\n",
       "      <th></th>\n",
       "      <th>CareEpisodeID</th>\n",
       "      <th>12_lead_in_epr</th>\n",
       "      <th>Oxygen Administered Under Intervention</th>\n",
       "      <th>Oxygen Administered Under Medicines</th>\n",
       "      <th>oxy_in_epr</th>\n",
       "    </tr>\n",
       "  </thead>\n",
       "  <tbody>\n",
       "    <tr>\n",
       "      <th>0</th>\n",
       "      <td>21928955</td>\n",
       "      <td>1.0</td>\n",
       "      <td>NaN</td>\n",
       "      <td>NaN</td>\n",
       "      <td>False</td>\n",
       "    </tr>\n",
       "  </tbody>\n",
       "</table>\n",
       "</div>"
      ],
      "text/plain": [
       "   CareEpisodeID  12_lead_in_epr  Oxygen Administered Under Intervention  \\\n",
       "0       21928955             1.0                                     NaN   \n",
       "\n",
       "   Oxygen Administered Under Medicines  oxy_in_epr  \n",
       "0                                  NaN       False  "
      ]
     },
     "execution_count": 6,
     "metadata": {},
     "output_type": "execute_result"
    }
   ],
   "source": [
    "# Create a new field that flags where any EPR oxygen field was \"1\" \n",
    "og['oxy_in_epr'] = og[oxy_cols].any(axis=1)\n",
    "og.rename(columns={\"12 lead ECG taken\":\"12_lead_in_epr\"}, inplace=True)\n",
    "og.head(1)"
   ]
  },
  {
   "cell_type": "code",
   "execution_count": 7,
   "metadata": {},
   "outputs": [
    {
     "data": {
      "text/plain": [
       "oxy_in_epr\n",
       "False    37131\n",
       "True     13425\n",
       "Name: count, dtype: int64"
      ]
     },
     "execution_count": 7,
     "metadata": {},
     "output_type": "execute_result"
    }
   ],
   "source": [
    "og.oxy_in_epr.value_counts()"
   ]
  },
  {
   "cell_type": "markdown",
   "metadata": {},
   "source": [
    "Create a new column in OG to combine Oxygen Administered fields\\\n",
    "Merge field, and 12-lead button field, with training data output \\\n",
    "Compare training data with button presses"
   ]
  },
  {
   "cell_type": "code",
   "execution_count": 8,
   "metadata": {},
   "outputs": [],
   "source": [
    "# Make a list of fields that I want in the results data\n",
    "og_merge_cols = [\n",
    " 'CareEpisodeID',\n",
    " '12_lead_in_epr',\n",
    "#  'Oxygen Administered Under Intervention',\n",
    "#  'Oxygen Administered Under Medicines',\n",
    " 'oxy_in_epr'\n",
    " ]"
   ]
  },
  {
   "cell_type": "code",
   "execution_count": 9,
   "metadata": {},
   "outputs": [
    {
     "data": {
      "text/html": [
       "<div>\n",
       "<style scoped>\n",
       "    .dataframe tbody tr th:only-of-type {\n",
       "        vertical-align: middle;\n",
       "    }\n",
       "\n",
       "    .dataframe tbody tr th {\n",
       "        vertical-align: top;\n",
       "    }\n",
       "\n",
       "    .dataframe thead th {\n",
       "        text-align: right;\n",
       "    }\n",
       "</style>\n",
       "<table border=\"1\" class=\"dataframe\">\n",
       "  <thead>\n",
       "    <tr style=\"text-align: right;\">\n",
       "      <th></th>\n",
       "      <th>CareEpisodeID</th>\n",
       "      <th>injuryIllnessDetails</th>\n",
       "      <th>impressionPlan</th>\n",
       "      <th>12_lead_label_found</th>\n",
       "      <th>12_lead_label_negated</th>\n",
       "      <th>oxygen_label_found</th>\n",
       "      <th>oxygen_label_negated</th>\n",
       "      <th>12_lead_label_sentence</th>\n",
       "      <th>oxygen_label_sentence</th>\n",
       "      <th>12_lead_in_epr</th>\n",
       "      <th>oxy_in_epr</th>\n",
       "    </tr>\n",
       "  </thead>\n",
       "  <tbody>\n",
       "    <tr>\n",
       "      <th>0</th>\n",
       "      <td>21928955</td>\n",
       "      <td>IHT SMH ED - WYCOMBE CSRU  Cardiac monitoring ...</td>\n",
       "      <td>NaN</td>\n",
       "      <td>1</td>\n",
       "      <td>0</td>\n",
       "      <td>0</td>\n",
       "      <td>0</td>\n",
       "      <td>12 lead - RBBB,</td>\n",
       "      <td>NaN</td>\n",
       "      <td>1.0</td>\n",
       "      <td>False</td>\n",
       "    </tr>\n",
       "  </tbody>\n",
       "</table>\n",
       "</div>"
      ],
      "text/plain": [
       "   CareEpisodeID                               injuryIllnessDetails  \\\n",
       "0       21928955  IHT SMH ED - WYCOMBE CSRU  Cardiac monitoring ...   \n",
       "\n",
       "  impressionPlan  12_lead_label_found  12_lead_label_negated  \\\n",
       "0            NaN                    1                      0   \n",
       "\n",
       "   oxygen_label_found  oxygen_label_negated 12_lead_label_sentence  \\\n",
       "0                   0                     0        12 lead - RBBB,   \n",
       "\n",
       "  oxygen_label_sentence  12_lead_in_epr  oxy_in_epr  \n",
       "0                   NaN             1.0       False  "
      ]
     },
     "execution_count": 9,
     "metadata": {},
     "output_type": "execute_result"
    }
   ],
   "source": [
    "# Merge the og columns into the output df to create the results\n",
    "res = df.merge(og[og_merge_cols], on='CareEpisodeID', how='left')\n",
    "res.head(1)"
   ]
  },
  {
   "cell_type": "code",
   "execution_count": 10,
   "metadata": {},
   "outputs": [],
   "source": [
    "graph_cols = [\n",
    "    '12_lead_in_epr',\n",
    "    '12_lead_label_found',\n",
    "    'oxy_in_epr',\n",
    "    'oxygen_label_found'\n",
    "    ]\n",
    "bar_data = res[graph_cols].sum() # MAKE THIS INTO A BAR CHART"
   ]
  },
  {
   "cell_type": "code",
   "execution_count": 11,
   "metadata": {},
   "outputs": [
    {
     "data": {
      "application/vnd.plotly.v1+json": {
       "config": {
        "plotlyServerURL": "https://plot.ly"
       },
       "data": [
        {
         "hovertemplate": "Category=%{x}<br>Sum=%{y}<extra></extra>",
         "legendgroup": "",
         "marker": {
          "color": "#636efa",
          "pattern": {
           "shape": ""
          }
         },
         "name": "",
         "orientation": "v",
         "showlegend": false,
         "textposition": "auto",
         "type": "bar",
         "x": [
          "12_lead_in_epr",
          "12_lead_label_found",
          "oxy_in_epr",
          "oxygen_label_found"
         ],
         "xaxis": "x",
         "y": {
          "bdata": "AAAAAIC80kAAAAAAACrGQAAAAABAAtJAAAAAAABx0UA=",
          "dtype": "f8"
         },
         "yaxis": "y"
        }
       ],
       "layout": {
        "barmode": "relative",
        "legend": {
         "tracegroupgap": 0
        },
        "template": {
         "data": {
          "bar": [
           {
            "error_x": {
             "color": "#2a3f5f"
            },
            "error_y": {
             "color": "#2a3f5f"
            },
            "marker": {
             "line": {
              "color": "#E5ECF6",
              "width": 0.5
             },
             "pattern": {
              "fillmode": "overlay",
              "size": 10,
              "solidity": 0.2
             }
            },
            "type": "bar"
           }
          ],
          "barpolar": [
           {
            "marker": {
             "line": {
              "color": "#E5ECF6",
              "width": 0.5
             },
             "pattern": {
              "fillmode": "overlay",
              "size": 10,
              "solidity": 0.2
             }
            },
            "type": "barpolar"
           }
          ],
          "carpet": [
           {
            "aaxis": {
             "endlinecolor": "#2a3f5f",
             "gridcolor": "white",
             "linecolor": "white",
             "minorgridcolor": "white",
             "startlinecolor": "#2a3f5f"
            },
            "baxis": {
             "endlinecolor": "#2a3f5f",
             "gridcolor": "white",
             "linecolor": "white",
             "minorgridcolor": "white",
             "startlinecolor": "#2a3f5f"
            },
            "type": "carpet"
           }
          ],
          "choropleth": [
           {
            "colorbar": {
             "outlinewidth": 0,
             "ticks": ""
            },
            "type": "choropleth"
           }
          ],
          "contour": [
           {
            "colorbar": {
             "outlinewidth": 0,
             "ticks": ""
            },
            "colorscale": [
             [
              0,
              "#0d0887"
             ],
             [
              0.1111111111111111,
              "#46039f"
             ],
             [
              0.2222222222222222,
              "#7201a8"
             ],
             [
              0.3333333333333333,
              "#9c179e"
             ],
             [
              0.4444444444444444,
              "#bd3786"
             ],
             [
              0.5555555555555556,
              "#d8576b"
             ],
             [
              0.6666666666666666,
              "#ed7953"
             ],
             [
              0.7777777777777778,
              "#fb9f3a"
             ],
             [
              0.8888888888888888,
              "#fdca26"
             ],
             [
              1,
              "#f0f921"
             ]
            ],
            "type": "contour"
           }
          ],
          "contourcarpet": [
           {
            "colorbar": {
             "outlinewidth": 0,
             "ticks": ""
            },
            "type": "contourcarpet"
           }
          ],
          "heatmap": [
           {
            "colorbar": {
             "outlinewidth": 0,
             "ticks": ""
            },
            "colorscale": [
             [
              0,
              "#0d0887"
             ],
             [
              0.1111111111111111,
              "#46039f"
             ],
             [
              0.2222222222222222,
              "#7201a8"
             ],
             [
              0.3333333333333333,
              "#9c179e"
             ],
             [
              0.4444444444444444,
              "#bd3786"
             ],
             [
              0.5555555555555556,
              "#d8576b"
             ],
             [
              0.6666666666666666,
              "#ed7953"
             ],
             [
              0.7777777777777778,
              "#fb9f3a"
             ],
             [
              0.8888888888888888,
              "#fdca26"
             ],
             [
              1,
              "#f0f921"
             ]
            ],
            "type": "heatmap"
           }
          ],
          "histogram": [
           {
            "marker": {
             "pattern": {
              "fillmode": "overlay",
              "size": 10,
              "solidity": 0.2
             }
            },
            "type": "histogram"
           }
          ],
          "histogram2d": [
           {
            "colorbar": {
             "outlinewidth": 0,
             "ticks": ""
            },
            "colorscale": [
             [
              0,
              "#0d0887"
             ],
             [
              0.1111111111111111,
              "#46039f"
             ],
             [
              0.2222222222222222,
              "#7201a8"
             ],
             [
              0.3333333333333333,
              "#9c179e"
             ],
             [
              0.4444444444444444,
              "#bd3786"
             ],
             [
              0.5555555555555556,
              "#d8576b"
             ],
             [
              0.6666666666666666,
              "#ed7953"
             ],
             [
              0.7777777777777778,
              "#fb9f3a"
             ],
             [
              0.8888888888888888,
              "#fdca26"
             ],
             [
              1,
              "#f0f921"
             ]
            ],
            "type": "histogram2d"
           }
          ],
          "histogram2dcontour": [
           {
            "colorbar": {
             "outlinewidth": 0,
             "ticks": ""
            },
            "colorscale": [
             [
              0,
              "#0d0887"
             ],
             [
              0.1111111111111111,
              "#46039f"
             ],
             [
              0.2222222222222222,
              "#7201a8"
             ],
             [
              0.3333333333333333,
              "#9c179e"
             ],
             [
              0.4444444444444444,
              "#bd3786"
             ],
             [
              0.5555555555555556,
              "#d8576b"
             ],
             [
              0.6666666666666666,
              "#ed7953"
             ],
             [
              0.7777777777777778,
              "#fb9f3a"
             ],
             [
              0.8888888888888888,
              "#fdca26"
             ],
             [
              1,
              "#f0f921"
             ]
            ],
            "type": "histogram2dcontour"
           }
          ],
          "mesh3d": [
           {
            "colorbar": {
             "outlinewidth": 0,
             "ticks": ""
            },
            "type": "mesh3d"
           }
          ],
          "parcoords": [
           {
            "line": {
             "colorbar": {
              "outlinewidth": 0,
              "ticks": ""
             }
            },
            "type": "parcoords"
           }
          ],
          "pie": [
           {
            "automargin": true,
            "type": "pie"
           }
          ],
          "scatter": [
           {
            "fillpattern": {
             "fillmode": "overlay",
             "size": 10,
             "solidity": 0.2
            },
            "type": "scatter"
           }
          ],
          "scatter3d": [
           {
            "line": {
             "colorbar": {
              "outlinewidth": 0,
              "ticks": ""
             }
            },
            "marker": {
             "colorbar": {
              "outlinewidth": 0,
              "ticks": ""
             }
            },
            "type": "scatter3d"
           }
          ],
          "scattercarpet": [
           {
            "marker": {
             "colorbar": {
              "outlinewidth": 0,
              "ticks": ""
             }
            },
            "type": "scattercarpet"
           }
          ],
          "scattergeo": [
           {
            "marker": {
             "colorbar": {
              "outlinewidth": 0,
              "ticks": ""
             }
            },
            "type": "scattergeo"
           }
          ],
          "scattergl": [
           {
            "marker": {
             "colorbar": {
              "outlinewidth": 0,
              "ticks": ""
             }
            },
            "type": "scattergl"
           }
          ],
          "scattermap": [
           {
            "marker": {
             "colorbar": {
              "outlinewidth": 0,
              "ticks": ""
             }
            },
            "type": "scattermap"
           }
          ],
          "scattermapbox": [
           {
            "marker": {
             "colorbar": {
              "outlinewidth": 0,
              "ticks": ""
             }
            },
            "type": "scattermapbox"
           }
          ],
          "scatterpolar": [
           {
            "marker": {
             "colorbar": {
              "outlinewidth": 0,
              "ticks": ""
             }
            },
            "type": "scatterpolar"
           }
          ],
          "scatterpolargl": [
           {
            "marker": {
             "colorbar": {
              "outlinewidth": 0,
              "ticks": ""
             }
            },
            "type": "scatterpolargl"
           }
          ],
          "scatterternary": [
           {
            "marker": {
             "colorbar": {
              "outlinewidth": 0,
              "ticks": ""
             }
            },
            "type": "scatterternary"
           }
          ],
          "surface": [
           {
            "colorbar": {
             "outlinewidth": 0,
             "ticks": ""
            },
            "colorscale": [
             [
              0,
              "#0d0887"
             ],
             [
              0.1111111111111111,
              "#46039f"
             ],
             [
              0.2222222222222222,
              "#7201a8"
             ],
             [
              0.3333333333333333,
              "#9c179e"
             ],
             [
              0.4444444444444444,
              "#bd3786"
             ],
             [
              0.5555555555555556,
              "#d8576b"
             ],
             [
              0.6666666666666666,
              "#ed7953"
             ],
             [
              0.7777777777777778,
              "#fb9f3a"
             ],
             [
              0.8888888888888888,
              "#fdca26"
             ],
             [
              1,
              "#f0f921"
             ]
            ],
            "type": "surface"
           }
          ],
          "table": [
           {
            "cells": {
             "fill": {
              "color": "#EBF0F8"
             },
             "line": {
              "color": "white"
             }
            },
            "header": {
             "fill": {
              "color": "#C8D4E3"
             },
             "line": {
              "color": "white"
             }
            },
            "type": "table"
           }
          ]
         },
         "layout": {
          "annotationdefaults": {
           "arrowcolor": "#2a3f5f",
           "arrowhead": 0,
           "arrowwidth": 1
          },
          "autotypenumbers": "strict",
          "coloraxis": {
           "colorbar": {
            "outlinewidth": 0,
            "ticks": ""
           }
          },
          "colorscale": {
           "diverging": [
            [
             0,
             "#8e0152"
            ],
            [
             0.1,
             "#c51b7d"
            ],
            [
             0.2,
             "#de77ae"
            ],
            [
             0.3,
             "#f1b6da"
            ],
            [
             0.4,
             "#fde0ef"
            ],
            [
             0.5,
             "#f7f7f7"
            ],
            [
             0.6,
             "#e6f5d0"
            ],
            [
             0.7,
             "#b8e186"
            ],
            [
             0.8,
             "#7fbc41"
            ],
            [
             0.9,
             "#4d9221"
            ],
            [
             1,
             "#276419"
            ]
           ],
           "sequential": [
            [
             0,
             "#0d0887"
            ],
            [
             0.1111111111111111,
             "#46039f"
            ],
            [
             0.2222222222222222,
             "#7201a8"
            ],
            [
             0.3333333333333333,
             "#9c179e"
            ],
            [
             0.4444444444444444,
             "#bd3786"
            ],
            [
             0.5555555555555556,
             "#d8576b"
            ],
            [
             0.6666666666666666,
             "#ed7953"
            ],
            [
             0.7777777777777778,
             "#fb9f3a"
            ],
            [
             0.8888888888888888,
             "#fdca26"
            ],
            [
             1,
             "#f0f921"
            ]
           ],
           "sequentialminus": [
            [
             0,
             "#0d0887"
            ],
            [
             0.1111111111111111,
             "#46039f"
            ],
            [
             0.2222222222222222,
             "#7201a8"
            ],
            [
             0.3333333333333333,
             "#9c179e"
            ],
            [
             0.4444444444444444,
             "#bd3786"
            ],
            [
             0.5555555555555556,
             "#d8576b"
            ],
            [
             0.6666666666666666,
             "#ed7953"
            ],
            [
             0.7777777777777778,
             "#fb9f3a"
            ],
            [
             0.8888888888888888,
             "#fdca26"
            ],
            [
             1,
             "#f0f921"
            ]
           ]
          },
          "colorway": [
           "#636efa",
           "#EF553B",
           "#00cc96",
           "#ab63fa",
           "#FFA15A",
           "#19d3f3",
           "#FF6692",
           "#B6E880",
           "#FF97FF",
           "#FECB52"
          ],
          "font": {
           "color": "#2a3f5f"
          },
          "geo": {
           "bgcolor": "white",
           "lakecolor": "white",
           "landcolor": "#E5ECF6",
           "showlakes": true,
           "showland": true,
           "subunitcolor": "white"
          },
          "hoverlabel": {
           "align": "left"
          },
          "hovermode": "closest",
          "mapbox": {
           "style": "light"
          },
          "paper_bgcolor": "white",
          "plot_bgcolor": "#E5ECF6",
          "polar": {
           "angularaxis": {
            "gridcolor": "white",
            "linecolor": "white",
            "ticks": ""
           },
           "bgcolor": "#E5ECF6",
           "radialaxis": {
            "gridcolor": "white",
            "linecolor": "white",
            "ticks": ""
           }
          },
          "scene": {
           "xaxis": {
            "backgroundcolor": "#E5ECF6",
            "gridcolor": "white",
            "gridwidth": 2,
            "linecolor": "white",
            "showbackground": true,
            "ticks": "",
            "zerolinecolor": "white"
           },
           "yaxis": {
            "backgroundcolor": "#E5ECF6",
            "gridcolor": "white",
            "gridwidth": 2,
            "linecolor": "white",
            "showbackground": true,
            "ticks": "",
            "zerolinecolor": "white"
           },
           "zaxis": {
            "backgroundcolor": "#E5ECF6",
            "gridcolor": "white",
            "gridwidth": 2,
            "linecolor": "white",
            "showbackground": true,
            "ticks": "",
            "zerolinecolor": "white"
           }
          },
          "shapedefaults": {
           "line": {
            "color": "#2a3f5f"
           }
          },
          "ternary": {
           "aaxis": {
            "gridcolor": "white",
            "linecolor": "white",
            "ticks": ""
           },
           "baxis": {
            "gridcolor": "white",
            "linecolor": "white",
            "ticks": ""
           },
           "bgcolor": "#E5ECF6",
           "caxis": {
            "gridcolor": "white",
            "linecolor": "white",
            "ticks": ""
           }
          },
          "title": {
           "x": 0.05
          },
          "xaxis": {
           "automargin": true,
           "gridcolor": "white",
           "linecolor": "white",
           "ticks": "",
           "title": {
            "standoff": 15
           },
           "zerolinecolor": "white",
           "zerolinewidth": 2
          },
          "yaxis": {
           "automargin": true,
           "gridcolor": "white",
           "linecolor": "white",
           "ticks": "",
           "title": {
            "standoff": 15
           },
           "zerolinecolor": "white",
           "zerolinewidth": 2
          }
         }
        },
        "title": {
         "text": "Sum of Columns"
        },
        "xaxis": {
         "anchor": "y",
         "domain": [
          0,
          1
         ],
         "title": {
          "text": "Category"
         }
        },
        "yaxis": {
         "anchor": "x",
         "domain": [
          0,
          1
         ],
         "title": {
          "text": "Sum"
         }
        }
       }
      }
     },
     "metadata": {},
     "output_type": "display_data"
    }
   ],
   "source": [
    "# bar_data is a pandas Series with index as labels and values as heights\n",
    "fig = px.bar(\n",
    "    x=bar_data.index,   # labels for the x-axis\n",
    "    y=bar_data.values,  # values for the y-axis\n",
    "    labels={'x': 'Category', 'y': 'Sum'},  # optional: axis labels\n",
    "    title='Sum of Columns'\n",
    ")\n",
    "fig.show()"
   ]
  },
  {
   "cell_type": "code",
   "execution_count": 12,
   "metadata": {},
   "outputs": [
    {
     "data": {
      "text/plain": [
       "(55572, 11)"
      ]
     },
     "execution_count": 12,
     "metadata": {},
     "output_type": "execute_result"
    }
   ],
   "source": [
    "res.shape"
   ]
  },
  {
   "cell_type": "code",
   "execution_count": 13,
   "metadata": {},
   "outputs": [
    {
     "data": {
      "text/plain": [
       "12_lead_in_epr\n",
       "1.0    19186\n",
       "Name: count, dtype: int64"
      ]
     },
     "execution_count": 13,
     "metadata": {},
     "output_type": "execute_result"
    }
   ],
   "source": [
    "res['12_lead_in_epr'].value_counts()"
   ]
  },
  {
   "cell_type": "code",
   "execution_count": 14,
   "metadata": {},
   "outputs": [
    {
     "data": {
      "text/html": [
       "<div>\n",
       "<style scoped>\n",
       "    .dataframe tbody tr th:only-of-type {\n",
       "        vertical-align: middle;\n",
       "    }\n",
       "\n",
       "    .dataframe tbody tr th {\n",
       "        vertical-align: top;\n",
       "    }\n",
       "\n",
       "    .dataframe thead th {\n",
       "        text-align: right;\n",
       "    }\n",
       "</style>\n",
       "<table border=\"1\" class=\"dataframe\">\n",
       "  <thead>\n",
       "    <tr style=\"text-align: right;\">\n",
       "      <th></th>\n",
       "      <th>CareEpisodeID</th>\n",
       "      <th>injuryIllnessDetails</th>\n",
       "      <th>impressionPlan</th>\n",
       "      <th>12_lead_label_found</th>\n",
       "      <th>12_lead_label_negated</th>\n",
       "      <th>oxygen_label_found</th>\n",
       "      <th>oxygen_label_negated</th>\n",
       "      <th>12_lead_label_sentence</th>\n",
       "      <th>oxygen_label_sentence</th>\n",
       "      <th>12_lead_in_epr</th>\n",
       "      <th>oxy_in_epr</th>\n",
       "    </tr>\n",
       "  </thead>\n",
       "  <tbody>\n",
       "    <tr>\n",
       "      <th>2</th>\n",
       "      <td>21929012</td>\n",
       "      <td>O/A - Met by wife and led to pt, pt lying on f...</td>\n",
       "      <td>1/ Obs 2/ ECG 3/ Transport to FPH ED for furth...</td>\n",
       "      <td>1</td>\n",
       "      <td>0</td>\n",
       "      <td>0</td>\n",
       "      <td>0</td>\n",
       "      <td>12 Lead ECG = Sinus Tachycardia.</td>\n",
       "      <td>NaN</td>\n",
       "      <td>NaN</td>\n",
       "      <td>False</td>\n",
       "    </tr>\n",
       "    <tr>\n",
       "      <th>20</th>\n",
       "      <td>21929142</td>\n",
       "      <td>O/A - Met by taxi driver at front entrance of ...</td>\n",
       "      <td>Consent, Observe, Assess, Convey NRS to UHS, P...</td>\n",
       "      <td>1</td>\n",
       "      <td>0</td>\n",
       "      <td>0</td>\n",
       "      <td>0</td>\n",
       "      <td>unable to gain.unable to conduct abdo assessme...</td>\n",
       "      <td>NaN</td>\n",
       "      <td>NaN</td>\n",
       "      <td>False</td>\n",
       "    </tr>\n",
       "    <tr>\n",
       "      <th>28</th>\n",
       "      <td>21929371</td>\n",
       "      <td>O/A- MET BY PT WIFE WHO SHOWED CREW TO WHERE P...</td>\n",
       "      <td>ASSESS, OBS  O2 THERAPY  12LEAD ECG  5MG SALBU...</td>\n",
       "      <td>1</td>\n",
       "      <td>0</td>\n",
       "      <td>1</td>\n",
       "      <td>0</td>\n",
       "      <td>12 LEAD SINUS TACH ?LBBB,</td>\n",
       "      <td>OBS  O2 THERAPY  5MG SALBUTAMOL NEBS  500MCG I...</td>\n",
       "      <td>NaN</td>\n",
       "      <td>False</td>\n",
       "    </tr>\n",
       "    <tr>\n",
       "      <th>37</th>\n",
       "      <td>21929469</td>\n",
       "      <td>Pt found unresponsive, laboured breathing, pal...</td>\n",
       "      <td>Administered analgesia  Transported to A+E</td>\n",
       "      <td>1</td>\n",
       "      <td>0</td>\n",
       "      <td>0</td>\n",
       "      <td>0</td>\n",
       "      <td>12 lead shows NSR    NEURO- c/o seve...</td>\n",
       "      <td>NaN</td>\n",
       "      <td>NaN</td>\n",
       "      <td>True</td>\n",
       "    </tr>\n",
       "    <tr>\n",
       "      <th>42</th>\n",
       "      <td>21929491</td>\n",
       "      <td>crew was met by street guardian and bouncer an...</td>\n",
       "      <td>obs cspine  considered,   stretcher to pt, pt ...</td>\n",
       "      <td>1</td>\n",
       "      <td>0</td>\n",
       "      <td>0</td>\n",
       "      <td>0</td>\n",
       "      <td>pt poor hx and unable to establish a good hx  ...</td>\n",
       "      <td>NaN</td>\n",
       "      <td>NaN</td>\n",
       "      <td>False</td>\n",
       "    </tr>\n",
       "    <tr>\n",
       "      <th>...</th>\n",
       "      <td>...</td>\n",
       "      <td>...</td>\n",
       "      <td>...</td>\n",
       "      <td>...</td>\n",
       "      <td>...</td>\n",
       "      <td>...</td>\n",
       "      <td>...</td>\n",
       "      <td>...</td>\n",
       "      <td>...</td>\n",
       "      <td>...</td>\n",
       "      <td>...</td>\n",
       "    </tr>\n",
       "    <tr>\n",
       "      <th>55536</th>\n",
       "      <td>22393389</td>\n",
       "      <td>hpc- at roughly 5pm this evening, pt has taken...</td>\n",
       "      <td>poa- assess, most vital refused. pt aggressive...</td>\n",
       "      <td>1</td>\n",
       "      <td>0</td>\n",
       "      <td>0</td>\n",
       "      <td>0</td>\n",
       "      <td>full 12 lead ecg refused.</td>\n",
       "      <td>NaN</td>\n",
       "      <td>NaN</td>\n",
       "      <td>False</td>\n",
       "    </tr>\n",
       "    <tr>\n",
       "      <th>55542</th>\n",
       "      <td>22393441</td>\n",
       "      <td>o/a - Greeted by daughter at the front door of...</td>\n",
       "      <td>Assess and perform neurological assessment wit...</td>\n",
       "      <td>1</td>\n",
       "      <td>0</td>\n",
       "      <td>0</td>\n",
       "      <td>0</td>\n",
       "      <td>12 LEAD ECG shows  Sinus Bradycardia at 50bpm.</td>\n",
       "      <td>NaN</td>\n",
       "      <td>NaN</td>\n",
       "      <td>False</td>\n",
       "    </tr>\n",
       "    <tr>\n",
       "      <th>55554</th>\n",
       "      <td>22393524</td>\n",
       "      <td>O/A  Greeted by partner at the door.  Patient ...</td>\n",
       "      <td>Observations   12 Lead ECG  Respiratory assess...</td>\n",
       "      <td>1</td>\n",
       "      <td>0</td>\n",
       "      <td>0</td>\n",
       "      <td>0</td>\n",
       "      <td>CVS  12 Lead ECG - Sinus rhythm  Denies any...</td>\n",
       "      <td>NaN</td>\n",
       "      <td>NaN</td>\n",
       "      <td>False</td>\n",
       "    </tr>\n",
       "    <tr>\n",
       "      <th>55557</th>\n",
       "      <td>22393547</td>\n",
       "      <td>On arrival - Pt answered her flat door to the ...</td>\n",
       "      <td>NaN</td>\n",
       "      <td>1</td>\n",
       "      <td>0</td>\n",
       "      <td>0</td>\n",
       "      <td>0</td>\n",
       "      <td>12 lead ECG showing sinus rhythm,</td>\n",
       "      <td>NaN</td>\n",
       "      <td>NaN</td>\n",
       "      <td>False</td>\n",
       "    </tr>\n",
       "    <tr>\n",
       "      <th>55558</th>\n",
       "      <td>22393558</td>\n",
       "      <td>o/a pt sitting upright in bed, alert, oriented...</td>\n",
       "      <td>Assess, convey, analgesia</td>\n",
       "      <td>1</td>\n",
       "      <td>0</td>\n",
       "      <td>0</td>\n",
       "      <td>0</td>\n",
       "      <td>12 lead ECG shows NSR w/ 1st deg block,</td>\n",
       "      <td>NaN</td>\n",
       "      <td>NaN</td>\n",
       "      <td>False</td>\n",
       "    </tr>\n",
       "  </tbody>\n",
       "</table>\n",
       "<p>6829 rows × 11 columns</p>\n",
       "</div>"
      ],
      "text/plain": [
       "       CareEpisodeID                               injuryIllnessDetails  \\\n",
       "2           21929012  O/A - Met by wife and led to pt, pt lying on f...   \n",
       "20          21929142  O/A - Met by taxi driver at front entrance of ...   \n",
       "28          21929371  O/A- MET BY PT WIFE WHO SHOWED CREW TO WHERE P...   \n",
       "37          21929469  Pt found unresponsive, laboured breathing, pal...   \n",
       "42          21929491  crew was met by street guardian and bouncer an...   \n",
       "...              ...                                                ...   \n",
       "55536       22393389  hpc- at roughly 5pm this evening, pt has taken...   \n",
       "55542       22393441  o/a - Greeted by daughter at the front door of...   \n",
       "55554       22393524  O/A  Greeted by partner at the door.  Patient ...   \n",
       "55557       22393547  On arrival - Pt answered her flat door to the ...   \n",
       "55558       22393558  o/a pt sitting upright in bed, alert, oriented...   \n",
       "\n",
       "                                          impressionPlan  12_lead_label_found  \\\n",
       "2      1/ Obs 2/ ECG 3/ Transport to FPH ED for furth...                    1   \n",
       "20     Consent, Observe, Assess, Convey NRS to UHS, P...                    1   \n",
       "28     ASSESS, OBS  O2 THERAPY  12LEAD ECG  5MG SALBU...                    1   \n",
       "37            Administered analgesia  Transported to A+E                    1   \n",
       "42     obs cspine  considered,   stretcher to pt, pt ...                    1   \n",
       "...                                                  ...                  ...   \n",
       "55536  poa- assess, most vital refused. pt aggressive...                    1   \n",
       "55542  Assess and perform neurological assessment wit...                    1   \n",
       "55554  Observations   12 Lead ECG  Respiratory assess...                    1   \n",
       "55557                                                NaN                    1   \n",
       "55558                          Assess, convey, analgesia                    1   \n",
       "\n",
       "       12_lead_label_negated  oxygen_label_found  oxygen_label_negated  \\\n",
       "2                          0                   0                     0   \n",
       "20                         0                   0                     0   \n",
       "28                         0                   1                     0   \n",
       "37                         0                   0                     0   \n",
       "42                         0                   0                     0   \n",
       "...                      ...                 ...                   ...   \n",
       "55536                      0                   0                     0   \n",
       "55542                      0                   0                     0   \n",
       "55554                      0                   0                     0   \n",
       "55557                      0                   0                     0   \n",
       "55558                      0                   0                     0   \n",
       "\n",
       "                                  12_lead_label_sentence  \\\n",
       "2                       12 Lead ECG = Sinus Tachycardia.   \n",
       "20     unable to gain.unable to conduct abdo assessme...   \n",
       "28                             12 LEAD SINUS TACH ?LBBB,   \n",
       "37               12 lead shows NSR    NEURO- c/o seve...   \n",
       "42     pt poor hx and unable to establish a good hx  ...   \n",
       "...                                                  ...   \n",
       "55536                          full 12 lead ecg refused.   \n",
       "55542     12 LEAD ECG shows  Sinus Bradycardia at 50bpm.   \n",
       "55554     CVS  12 Lead ECG - Sinus rhythm  Denies any...   \n",
       "55557                  12 lead ECG showing sinus rhythm,   \n",
       "55558            12 lead ECG shows NSR w/ 1st deg block,   \n",
       "\n",
       "                                   oxygen_label_sentence  12_lead_in_epr  \\\n",
       "2                                                    NaN             NaN   \n",
       "20                                                   NaN             NaN   \n",
       "28     OBS  O2 THERAPY  5MG SALBUTAMOL NEBS  500MCG I...             NaN   \n",
       "37                                                   NaN             NaN   \n",
       "42                                                   NaN             NaN   \n",
       "...                                                  ...             ...   \n",
       "55536                                                NaN             NaN   \n",
       "55542                                                NaN             NaN   \n",
       "55554                                                NaN             NaN   \n",
       "55557                                                NaN             NaN   \n",
       "55558                                                NaN             NaN   \n",
       "\n",
       "       oxy_in_epr  \n",
       "2           False  \n",
       "20          False  \n",
       "28          False  \n",
       "37           True  \n",
       "42          False  \n",
       "...           ...  \n",
       "55536       False  \n",
       "55542       False  \n",
       "55554       False  \n",
       "55557       False  \n",
       "55558       False  \n",
       "\n",
       "[6829 rows x 11 columns]"
      ]
     },
     "execution_count": 14,
     "metadata": {},
     "output_type": "execute_result"
    }
   ],
   "source": [
    "# Find rows where 12-lead not pressed in EPR, but found by code\n",
    "res.loc[(res['12_lead_in_epr']!=1)&(res['12_lead_label_found']==1),:]"
   ]
  },
  {
   "cell_type": "code",
   "execution_count": 15,
   "metadata": {},
   "outputs": [
    {
     "data": {
      "text/html": [
       "<div>\n",
       "<style scoped>\n",
       "    .dataframe tbody tr th:only-of-type {\n",
       "        vertical-align: middle;\n",
       "    }\n",
       "\n",
       "    .dataframe tbody tr th {\n",
       "        vertical-align: top;\n",
       "    }\n",
       "\n",
       "    .dataframe thead th {\n",
       "        text-align: right;\n",
       "    }\n",
       "</style>\n",
       "<table border=\"1\" class=\"dataframe\">\n",
       "  <thead>\n",
       "    <tr style=\"text-align: right;\">\n",
       "      <th></th>\n",
       "      <th>CareEpisodeID</th>\n",
       "      <th>injuryIllnessDetails</th>\n",
       "      <th>impressionPlan</th>\n",
       "      <th>12_lead_label_found</th>\n",
       "      <th>12_lead_label_negated</th>\n",
       "      <th>oxygen_label_found</th>\n",
       "      <th>oxygen_label_negated</th>\n",
       "      <th>12_lead_label_sentence</th>\n",
       "      <th>oxygen_label_sentence</th>\n",
       "      <th>12_lead_in_epr</th>\n",
       "      <th>oxy_in_epr</th>\n",
       "    </tr>\n",
       "  </thead>\n",
       "  <tbody>\n",
       "    <tr>\n",
       "      <th>1</th>\n",
       "      <td>21928957</td>\n",
       "      <td>OA/ Crew flagged down by other students. Crew ...</td>\n",
       "      <td>1. arrive on scene  2. assess, obs, history  3...</td>\n",
       "      <td>0</td>\n",
       "      <td>0</td>\n",
       "      <td>1</td>\n",
       "      <td>1</td>\n",
       "      <td>NaN</td>\n",
       "      <td>normal o2 sats on room air,</td>\n",
       "      <td>NaN</td>\n",
       "      <td>False</td>\n",
       "    </tr>\n",
       "    <tr>\n",
       "      <th>22</th>\n",
       "      <td>21929174</td>\n",
       "      <td>O/a: patient standing in doorway on arrival- a...</td>\n",
       "      <td>Examine patient  respiratory assessment,  salb...</td>\n",
       "      <td>0</td>\n",
       "      <td>0</td>\n",
       "      <td>1</td>\n",
       "      <td>0</td>\n",
       "      <td>NaN</td>\n",
       "      <td>treated with salbutamol- wheeze persisted- ipr...</td>\n",
       "      <td>NaN</td>\n",
       "      <td>False</td>\n",
       "    </tr>\n",
       "    <tr>\n",
       "      <th>28</th>\n",
       "      <td>21929371</td>\n",
       "      <td>O/A- MET BY PT WIFE WHO SHOWED CREW TO WHERE P...</td>\n",
       "      <td>ASSESS, OBS  O2 THERAPY  12LEAD ECG  5MG SALBU...</td>\n",
       "      <td>1</td>\n",
       "      <td>0</td>\n",
       "      <td>1</td>\n",
       "      <td>0</td>\n",
       "      <td>12 LEAD SINUS TACH ?LBBB,</td>\n",
       "      <td>OBS  O2 THERAPY  5MG SALBUTAMOL NEBS  500MCG I...</td>\n",
       "      <td>NaN</td>\n",
       "      <td>False</td>\n",
       "    </tr>\n",
       "    <tr>\n",
       "      <th>40</th>\n",
       "      <td>21929487</td>\n",
       "      <td>O/A  Met by officer outside station and direct...</td>\n",
       "      <td>Assess, obs, ECG, convey to ED for further ass...</td>\n",
       "      <td>0</td>\n",
       "      <td>0</td>\n",
       "      <td>1</td>\n",
       "      <td>1</td>\n",
       "      <td>NaN</td>\n",
       "      <td>Crew did not administer further supplementary...</td>\n",
       "      <td>NaN</td>\n",
       "      <td>False</td>\n",
       "    </tr>\n",
       "    <tr>\n",
       "      <th>58</th>\n",
       "      <td>21929731</td>\n",
       "      <td>O/a: P/t flat on back on bed.   O/e: Airway cl...</td>\n",
       "      <td>NaN</td>\n",
       "      <td>0</td>\n",
       "      <td>0</td>\n",
       "      <td>1</td>\n",
       "      <td>0</td>\n",
       "      <td>NaN</td>\n",
       "      <td>When O2 removed sats came down to 80 but Jenni...</td>\n",
       "      <td>NaN</td>\n",
       "      <td>False</td>\n",
       "    </tr>\n",
       "    <tr>\n",
       "      <th>...</th>\n",
       "      <td>...</td>\n",
       "      <td>...</td>\n",
       "      <td>...</td>\n",
       "      <td>...</td>\n",
       "      <td>...</td>\n",
       "      <td>...</td>\n",
       "      <td>...</td>\n",
       "      <td>...</td>\n",
       "      <td>...</td>\n",
       "      <td>...</td>\n",
       "      <td>...</td>\n",
       "    </tr>\n",
       "    <tr>\n",
       "      <th>55548</th>\n",
       "      <td>22393478</td>\n",
       "      <td>OA//   crew arrived, buzzed out of hours door ...</td>\n",
       "      <td>NaN</td>\n",
       "      <td>0</td>\n",
       "      <td>0</td>\n",
       "      <td>1</td>\n",
       "      <td>0</td>\n",
       "      <td>NaN</td>\n",
       "      <td>HR/RR/BP/O2 between normal ranges     PLAN//  ...</td>\n",
       "      <td>NaN</td>\n",
       "      <td>False</td>\n",
       "    </tr>\n",
       "    <tr>\n",
       "      <th>55552</th>\n",
       "      <td>22393520</td>\n",
       "      <td>OA//  crew greeted by fire service, handover g...</td>\n",
       "      <td>#NAME?</td>\n",
       "      <td>0</td>\n",
       "      <td>0</td>\n",
       "      <td>1</td>\n",
       "      <td>1</td>\n",
       "      <td>NaN</td>\n",
       "      <td>- pt was extremely adamant for not going into...</td>\n",
       "      <td>NaN</td>\n",
       "      <td>False</td>\n",
       "    </tr>\n",
       "    <tr>\n",
       "      <th>55563</th>\n",
       "      <td>22393649</td>\n",
       "      <td>O/A - Crew knock on front door and ring door b...</td>\n",
       "      <td>NaN</td>\n",
       "      <td>0</td>\n",
       "      <td>0</td>\n",
       "      <td>1</td>\n",
       "      <td>0</td>\n",
       "      <td>NaN</td>\n",
       "      <td>RR and o2 sats WNL.</td>\n",
       "      <td>NaN</td>\n",
       "      <td>False</td>\n",
       "    </tr>\n",
       "    <tr>\n",
       "      <th>55565</th>\n",
       "      <td>22393654</td>\n",
       "      <td>HX - overdose 10 days ago, today took overdose...</td>\n",
       "      <td>assess, obs, convey to QAh</td>\n",
       "      <td>0</td>\n",
       "      <td>0</td>\n",
       "      <td>1</td>\n",
       "      <td>0</td>\n",
       "      <td>NaN</td>\n",
       "      <td>oxygen saturations normal   C- normotensive   ...</td>\n",
       "      <td>NaN</td>\n",
       "      <td>False</td>\n",
       "    </tr>\n",
       "    <tr>\n",
       "      <th>55568</th>\n",
       "      <td>22393686</td>\n",
       "      <td>O/A crew arrived on scene, crew gained access ...</td>\n",
       "      <td>NaN</td>\n",
       "      <td>0</td>\n",
       "      <td>0</td>\n",
       "      <td>1</td>\n",
       "      <td>0</td>\n",
       "      <td>NaN</td>\n",
       "      <td>ECG NSR    RS - breathing rate and oxygen sats...</td>\n",
       "      <td>NaN</td>\n",
       "      <td>False</td>\n",
       "    </tr>\n",
       "  </tbody>\n",
       "</table>\n",
       "<p>5608 rows × 11 columns</p>\n",
       "</div>"
      ],
      "text/plain": [
       "       CareEpisodeID                               injuryIllnessDetails  \\\n",
       "1           21928957  OA/ Crew flagged down by other students. Crew ...   \n",
       "22          21929174  O/a: patient standing in doorway on arrival- a...   \n",
       "28          21929371  O/A- MET BY PT WIFE WHO SHOWED CREW TO WHERE P...   \n",
       "40          21929487  O/A  Met by officer outside station and direct...   \n",
       "58          21929731  O/a: P/t flat on back on bed.   O/e: Airway cl...   \n",
       "...              ...                                                ...   \n",
       "55548       22393478  OA//   crew arrived, buzzed out of hours door ...   \n",
       "55552       22393520  OA//  crew greeted by fire service, handover g...   \n",
       "55563       22393649  O/A - Crew knock on front door and ring door b...   \n",
       "55565       22393654  HX - overdose 10 days ago, today took overdose...   \n",
       "55568       22393686  O/A crew arrived on scene, crew gained access ...   \n",
       "\n",
       "                                          impressionPlan  12_lead_label_found  \\\n",
       "1      1. arrive on scene  2. assess, obs, history  3...                    0   \n",
       "22     Examine patient  respiratory assessment,  salb...                    0   \n",
       "28     ASSESS, OBS  O2 THERAPY  12LEAD ECG  5MG SALBU...                    1   \n",
       "40     Assess, obs, ECG, convey to ED for further ass...                    0   \n",
       "58                                                   NaN                    0   \n",
       "...                                                  ...                  ...   \n",
       "55548                                                NaN                    0   \n",
       "55552                                             #NAME?                    0   \n",
       "55563                                                NaN                    0   \n",
       "55565                        assess, obs, convey to QAh                     0   \n",
       "55568                                                NaN                    0   \n",
       "\n",
       "       12_lead_label_negated  oxygen_label_found  oxygen_label_negated  \\\n",
       "1                          0                   1                     1   \n",
       "22                         0                   1                     0   \n",
       "28                         0                   1                     0   \n",
       "40                         0                   1                     1   \n",
       "58                         0                   1                     0   \n",
       "...                      ...                 ...                   ...   \n",
       "55548                      0                   1                     0   \n",
       "55552                      0                   1                     1   \n",
       "55563                      0                   1                     0   \n",
       "55565                      0                   1                     0   \n",
       "55568                      0                   1                     0   \n",
       "\n",
       "          12_lead_label_sentence  \\\n",
       "1                            NaN   \n",
       "22                           NaN   \n",
       "28     12 LEAD SINUS TACH ?LBBB,   \n",
       "40                           NaN   \n",
       "58                           NaN   \n",
       "...                          ...   \n",
       "55548                        NaN   \n",
       "55552                        NaN   \n",
       "55563                        NaN   \n",
       "55565                        NaN   \n",
       "55568                        NaN   \n",
       "\n",
       "                                   oxygen_label_sentence  12_lead_in_epr  \\\n",
       "1                            normal o2 sats on room air,             NaN   \n",
       "22     treated with salbutamol- wheeze persisted- ipr...             NaN   \n",
       "28     OBS  O2 THERAPY  5MG SALBUTAMOL NEBS  500MCG I...             NaN   \n",
       "40      Crew did not administer further supplementary...             NaN   \n",
       "58     When O2 removed sats came down to 80 but Jenni...             NaN   \n",
       "...                                                  ...             ...   \n",
       "55548  HR/RR/BP/O2 between normal ranges     PLAN//  ...             NaN   \n",
       "55552   - pt was extremely adamant for not going into...             NaN   \n",
       "55563                                RR and o2 sats WNL.             NaN   \n",
       "55565  oxygen saturations normal   C- normotensive   ...             NaN   \n",
       "55568  ECG NSR    RS - breathing rate and oxygen sats...             NaN   \n",
       "\n",
       "       oxy_in_epr  \n",
       "1           False  \n",
       "22          False  \n",
       "28          False  \n",
       "40          False  \n",
       "58          False  \n",
       "...           ...  \n",
       "55548       False  \n",
       "55552       False  \n",
       "55563       False  \n",
       "55565       False  \n",
       "55568       False  \n",
       "\n",
       "[5608 rows x 11 columns]"
      ]
     },
     "execution_count": 15,
     "metadata": {},
     "output_type": "execute_result"
    }
   ],
   "source": [
    "# Find rows where Oxygen not pressed in EPR, but found by code\n",
    "res.loc[(res['oxy_in_epr']!=1)&(res['oxygen_label_found']==1),:]"
   ]
  },
  {
   "cell_type": "code",
   "execution_count": 16,
   "metadata": {},
   "outputs": [],
   "source": [
    "# Output to csv for checking\n",
    "# res.to_csv(\"epr_ner_output_check_250519.csv\", index=False)"
   ]
  }
 ],
 "metadata": {
  "kernelspec": {
   "display_name": ".venv",
   "language": "python",
   "name": "python3"
  },
  "language_info": {
   "codemirror_mode": {
    "name": "ipython",
    "version": 3
   },
   "file_extension": ".py",
   "mimetype": "text/x-python",
   "name": "python",
   "nbconvert_exporter": "python",
   "pygments_lexer": "ipython3",
   "version": "3.10.12"
  }
 },
 "nbformat": 4,
 "nbformat_minor": 2
}
